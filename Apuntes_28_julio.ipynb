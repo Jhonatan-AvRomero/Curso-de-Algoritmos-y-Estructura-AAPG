{
  "nbformat": 4,
  "nbformat_minor": 0,
  "metadata": {
    "colab": {
      "name": "Apuntes_28_julio.ipynb",
      "provenance": [],
      "authorship_tag": "ABX9TyNVSxjfWToS3ezYxlQPLWjQ",
      "include_colab_link": true
    },
    "kernelspec": {
      "name": "python3",
      "display_name": "Python 3"
    },
    "language_info": {
      "name": "python"
    }
  },
  "cells": [
    {
      "cell_type": "markdown",
      "metadata": {
        "id": "view-in-github",
        "colab_type": "text"
      },
      "source": [
        "<a href=\"https://colab.research.google.com/github/Jhonatan-AvRomero/Curso-de-Algoritmos-y-Estructura-AAPG/blob/main/Apuntes_28_julio.ipynb\" target=\"_parent\"><img src=\"https://colab.research.google.com/assets/colab-badge.svg\" alt=\"Open In Colab\"/></a>"
      ]
    },
    {
      "cell_type": "markdown",
      "metadata": {
        "id": "al-HD9VVOQDN"
      },
      "source": [
        "**Análisis y complejidad de algoritmos**\n"
      ]
    },
    {
      "cell_type": "code",
      "metadata": {
        "colab": {
          "base_uri": "https://localhost:8080/"
        },
        "id": "mPr2LtEBOYvo",
        "outputId": "a21da47e-d1de-41ce-a0e3-a1925a76a058"
      },
      "source": [
        "a = 5 #-----------1\n",
        "b = 6 #-----------1\n",
        "c = 10 #-------------1\n",
        "size = 3 #-----------1\n",
        "\n",
        "for i in range(size): #----------------n\n",
        "  for j in range(size): #------------n*n\n",
        "    x = i * i #-----------------n*n\n",
        "    y = j * j #-----------------n*n\n",
        "    z = i * j #-----------------n*n\n",
        "for k in range(size): #-------------n\n",
        "  w = k*k #------------------n\n",
        "  v = 3*k #------------------n\n",
        "\n",
        "print(c) #----------------------1\n",
        "\n",
        "#T(n) = 3 + 3n^2 + 2n + 1 = 3n^2 + 2n + 4\n",
        "#Término dominante en notación Big O: o(n^2)"
      ],
      "execution_count": 3,
      "outputs": [
        {
          "output_type": "stream",
          "text": [
            "10\n"
          ],
          "name": "stdout"
        }
      ]
    },
    {
      "cell_type": "markdown",
      "metadata": {
        "id": "UKG3JpzZTT-3"
      },
      "source": [
        "**Determinar términos dominantes**"
      ]
    },
    {
      "cell_type": "code",
      "metadata": {
        "colab": {
          "base_uri": "https://localhost:8080/"
        },
        "id": "ncAfXMjCTS43",
        "outputId": "9235c5fb-7713-47dc-99ef-1d500c706b51"
      },
      "source": [
        "#Termino dominante 1\n",
        "a = 1 #_______________1\n",
        "b = 2#______________1\n",
        "c = 1#______________1\n",
        "\n",
        "if a < b:\n",
        "  print('OK')#_________1\n",
        "else:\n",
        "  print('False')#-----------1\n",
        "\n",
        "#T(n) = 5\n",
        "#O(1) = constante\n",
        "\n",
        "for i in (2): #------------------1 sería constante porque varía en un sólo número\n"
      ],
      "execution_count": 4,
      "outputs": [
        {
          "output_type": "stream",
          "text": [
            "OK\n"
          ],
          "name": "stdout"
        }
      ]
    },
    {
      "cell_type": "code",
      "metadata": {
        "colab": {
          "base_uri": "https://localhost:8080/"
        },
        "id": "sdhc5HCuUk61",
        "outputId": "cc4bbb74-5939-4a26-fe69-11a980a4ac08"
      },
      "source": [
        "#Notacion dominante O(n)\n",
        "lista = [9,3,2,4,5,6]\n",
        "for i in range(len(lista)): #---------n\n",
        "  print(i) #---------------n\n",
        "\n",
        "#T(n) = n + 1\n",
        "#O(n)"
      ],
      "execution_count": 5,
      "outputs": [
        {
          "output_type": "stream",
          "text": [
            "0\n",
            "1\n",
            "2\n",
            "3\n",
            "4\n",
            "5\n"
          ],
          "name": "stdout"
        }
      ]
    },
    {
      "cell_type": "code",
      "metadata": {
        "id": "uEAkd8qUVAC3"
      },
      "source": [
        "\n",
        "array_a = [1,2,3,4,5,6,7,8,9,10] #----------------1\n",
        "array_b = [1,2,3,4,5,6,7,8,9,10] #------------1\n",
        "\n",
        "for i in len(array_a): #---------------a\n",
        "  for j in len(array_b): #-------------b\n",
        "    print(i,j)\n",
        "#T(n) = (a*b) + 2\n",
        "#O(a*b)\n"
      ],
      "execution_count": null,
      "outputs": []
    },
    {
      "cell_type": "code",
      "metadata": {
        "colab": {
          "base_uri": "https://localhost:8080/"
        },
        "id": "-0w5K2z1WGt4",
        "outputId": "f4399443-457d-4eab-f29c-40bb4ad4a197"
      },
      "source": [
        "import time\n",
        "inicio = time.time()\n",
        "#lista_anidada = [[1,2],[3,4],[5,6],[7,8]] #--------1\n",
        "lista_anidada = range((100000),10)\n",
        "for i in range(0, len(lista_anidada)): #-------n\n",
        "  for j in range(0, len(lista_anidada[0])): #----------A*B\n",
        "    if lista_anidada[i][j] == 4: #-------------A*B\n",
        "      print(\"El valor 4 se encuentra en nuestra lista anidadd\") #A*B\n",
        "fin = time.time()\n",
        "print(fin-inicio)\n",
        "#T(n) = 1 + 2(A*B)\n",
        "#O(n) = O(A*B)\n"
      ],
      "execution_count": 16,
      "outputs": [
        {
          "output_type": "stream",
          "text": [
            "0.00012874603271484375\n"
          ],
          "name": "stdout"
        }
      ]
    },
    {
      "cell_type": "markdown",
      "metadata": {
        "id": "EXWDo1sbcSaA"
      },
      "source": [
        "**Problema: Se tiene una lista de datos desordenada, requerimos encontrar el valor mínimo de la lista de datos.\n",
        "Implemente una solución que sea óptima para asegurar que nuestros recursos satisfagan nuestra necesidad**"
      ]
    },
    {
      "cell_type": "code",
      "metadata": {
        "colab": {
          "base_uri": "https://localhost:8080/"
        },
        "id": "-XZDY70wcNTN",
        "outputId": "cc6e6b19-8477-4bb6-8607-0198c7078f55"
      },
      "source": [
        "lista_z = [5,4,2,1,0]\n",
        "\n",
        "def findMIN(lista):\n",
        "  minimo = lista[0]\n",
        "  for i in lista:\n",
        "    valor_minimo = True\n",
        "    for j in lista:\n",
        "      if i > j:\n",
        "        valor_minimo = False\n",
        "  if valor_minimo:\n",
        "    minimo = i\n",
        "  return minimo\n",
        "\n",
        "print(findMIN(lista_z))\n"
      ],
      "execution_count": 36,
      "outputs": [
        {
          "output_type": "stream",
          "text": [
            "0\n"
          ],
          "name": "stdout"
        }
      ]
    }
  ]
}