{
  "nbformat": 4,
  "nbformat_minor": 0,
  "metadata": {
    "colab": {
      "name": "Ejercicios_Sesión_3.ipynb",
      "provenance": [],
      "authorship_tag": "ABX9TyPaMIIi8e7krBfEfMXswo8B",
      "include_colab_link": true
    },
    "kernelspec": {
      "name": "python3",
      "display_name": "Python 3"
    },
    "language_info": {
      "name": "python"
    }
  },
  "cells": [
    {
      "cell_type": "markdown",
      "metadata": {
        "id": "view-in-github",
        "colab_type": "text"
      },
      "source": [
        "<a href=\"https://colab.research.google.com/github/Jhonatan-AvRomero/Curso-de-Algoritmos-y-Estructura-AAPG/blob/main/Ejercicios_Sesi%C3%B3n_3.ipynb\" target=\"_parent\"><img src=\"https://colab.research.google.com/assets/colab-badge.svg\" alt=\"Open In Colab\"/></a>"
      ]
    },
    {
      "cell_type": "markdown",
      "metadata": {
        "id": "i_u1lHelHjAZ"
      },
      "source": [
        "**Ejercicios de la sesión 3**\n",
        "\n",
        "1.- Piensa en todos los casos posibles para que el programa que se realizó en la sesión número tres donde se resolvió el algoritmo de mínimo y máximo. Lista todos los casos que pienses, observa el ejemplo. Lista al menos 5\n",
        "*   Una lista vacia\n",
        "*   Una lista con un solo valor minímo 3. 4. 5.\n",
        "\n",
        "Vamos a expresar nuestros casos como diccionarios para probar muy facilmente nuestros algoritmos, cada diccionario llevará dos keys, una estrada que es la lista a ingresar y una salida, que es lo que esperas que retorne tu función. Observemos:\n",
        "\n",
        "**Consejo:** siempre que se maneje una lista vacía, la salida puede ser 0\n"
      ]
    },
    {
      "cell_type": "code",
      "metadata": {
        "id": "u1aPI0oW8l4Q"
      },
      "source": [
        ""
      ],
      "execution_count": null,
      "outputs": []
    },
    {
      "cell_type": "code",
      "metadata": {
        "id": "mvzL2XGDHlZS"
      },
      "source": [
        "test = {\n",
        "    'input': {\n",
        "        'nums': []\n",
        "    },\n",
        "    'output': 0\n",
        "}"
      ],
      "execution_count": 1,
      "outputs": []
    },
    {
      "cell_type": "code",
      "metadata": {
        "colab": {
          "base_uri": "https://localhost:8080/"
        },
        "id": "llPsHzVPJnii",
        "outputId": "dca63d89-85bb-431b-ba50-1814a2a8a67c"
      },
      "source": [
        "test"
      ],
      "execution_count": 2,
      "outputs": [
        {
          "output_type": "execute_result",
          "data": {
            "text/plain": [
              "{'input': {'nums': []}, 'output': 0}"
            ]
          },
          "metadata": {
            "tags": []
          },
          "execution_count": 2
        }
      ]
    },
    {
      "cell_type": "markdown",
      "metadata": {
        "id": "OMqS-71vKSGj"
      },
      "source": [
        "Recordemos que para acceder usamos la key, por ejemplo, si yo quiero probar mi lista e ingresarla dentro de una función, solo usamos la key 'input' y la key dentro de ínput, en este caso, 'nums'. Lo mismo para la salida"
      ]
    },
    {
      "cell_type": "code",
      "metadata": {
        "colab": {
          "base_uri": "https://localhost:8080/"
        },
        "id": "jOmLx9PIKPut",
        "outputId": "de269dfc-aea5-4787-bd4b-d7e39b1e35a2"
      },
      "source": [
        "print(test['input']['nums'])\n",
        "print(test['output'])"
      ],
      "execution_count": 3,
      "outputs": [
        {
          "output_type": "stream",
          "text": [
            "[]\n",
            "0\n"
          ],
          "name": "stdout"
        }
      ]
    },
    {
      "cell_type": "markdown",
      "metadata": {
        "id": "Cuhd-D1sKfCN"
      },
      "source": [
        "**CUANDO UNA LISTA ESTÁ VACIA**"
      ]
    },
    {
      "cell_type": "code",
      "metadata": {
        "id": "3W_0uJ_qKX4-"
      },
      "source": [
        "test = {\n",
        "    'input': {\n",
        "        'nums': []\n",
        "    },\n",
        "    'output': 0\n",
        "}"
      ],
      "execution_count": 4,
      "outputs": []
    },
    {
      "cell_type": "code",
      "metadata": {
        "colab": {
          "base_uri": "https://localhost:8080/"
        },
        "id": "-XZDY70wcNTN",
        "outputId": "7c9d7ea4-7565-42b6-fe72-15973715bb73"
      },
      "source": [
        "def findMIN(lista):\n",
        "  minimo = lista['output']\n",
        "  for i in lista['input']['nums']:\n",
        "    valor_minimo = True\n",
        "    for j in lista['input']['nums']:\n",
        "      if i > j:\n",
        "        valor_minimo = False\n",
        "    if valor_minimo:\n",
        "      minimo = i\n",
        "  return minimo\n",
        "\n",
        "print(findMIN(test))"
      ],
      "execution_count": 5,
      "outputs": [
        {
          "output_type": "stream",
          "text": [
            "0\n"
          ],
          "name": "stdout"
        }
      ]
    },
    {
      "cell_type": "code",
      "metadata": {
        "colab": {
          "base_uri": "https://localhost:8080/"
        },
        "id": "D5KZVsKBaMYJ",
        "outputId": "d176cadb-20d7-4fb3-b007-245c5a9790b2"
      },
      "source": [
        "#    EVALUACIÓN\n",
        "print(findMIN(test) == test['output'])"
      ],
      "execution_count": 6,
      "outputs": [
        {
          "output_type": "stream",
          "text": [
            "True\n"
          ],
          "name": "stdout"
        }
      ]
    },
    {
      "cell_type": "markdown",
      "metadata": {
        "id": "D-pchdi0WsC5"
      },
      "source": [
        "**CUANDO UNA LISTA TIENE SÓLO UN VALOR MÍNIMO**"
      ]
    },
    {
      "cell_type": "code",
      "metadata": {
        "id": "ZzQcSsLJRFl5"
      },
      "source": [
        "test2 = {\n",
        "    'input': {\n",
        "        'nums': [2,3,1,4,5,6,7,8]\n",
        "    },\n",
        "    'output': 1\n",
        "}"
      ],
      "execution_count": 7,
      "outputs": []
    },
    {
      "cell_type": "code",
      "metadata": {
        "colab": {
          "base_uri": "https://localhost:8080/"
        },
        "id": "lRQqfL-EWCzz",
        "outputId": "ab362067-49b8-43a3-cafb-36c4c2827675"
      },
      "source": [
        "def findMIN(lista):\n",
        "  minimo = lista['output']\n",
        "  for i in lista['input']['nums']:\n",
        "    valor_minimo = True\n",
        "    for j in lista['input']['nums']:\n",
        "      if i > j:\n",
        "        valor_minimo = False\n",
        "    if valor_minimo:\n",
        "      minimo = i\n",
        "  return minimo\n",
        "\n",
        "print(findMIN(test2))"
      ],
      "execution_count": 8,
      "outputs": [
        {
          "output_type": "stream",
          "text": [
            "1\n"
          ],
          "name": "stdout"
        }
      ]
    },
    {
      "cell_type": "code",
      "metadata": {
        "colab": {
          "base_uri": "https://localhost:8080/"
        },
        "id": "KSlqbT6Qar4x",
        "outputId": "8b1fe935-518f-4abb-f83e-fb6c61daa896"
      },
      "source": [
        "print(findMIN(test2) == test2['output'])"
      ],
      "execution_count": 9,
      "outputs": [
        {
          "output_type": "stream",
          "text": [
            "True\n"
          ],
          "name": "stdout"
        }
      ]
    },
    {
      "cell_type": "markdown",
      "metadata": {
        "id": "qp9mX4i_XG0V"
      },
      "source": [
        "**¿Recuerdas la teoría de la sesión de este ejercicio?**\n",
        "\n",
        "**Explica brevemente en una serie de pasos como trabaja el primer algoritmo que es el peor caso**"
      ]
    },
    {
      "cell_type": "markdown",
      "metadata": {
        "id": "vfZFTyDwXjMu"
      },
      "source": [
        "\n",
        "\n",
        "1.   Se elige el primer valor de nuestro diccionario y se asigna como el valor mínimo mediante la igualdad valor_minimo = True.\n",
        "2.   Iteramos tantas veces como sea necesario para comparar el valor anterior con los siguientes del diccionario; en cada paso ha dos posibilidades que sí sea o no el primer número el mínimo, en caso de no serlo, valor_minimo = False.\n",
        "3. Se repite el mismo proceso con cada valor del diccionario hasta hacer todas las comparaciones posibles y al final se imprime el último valor_minimo asignado.\n",
        "\n"
      ]
    },
    {
      "cell_type": "markdown",
      "metadata": {
        "id": "MTtT5pZG8E_o"
      },
      "source": [
        "**Explica brevemente en una serie de pasos como trabaja el segundo algoritmo, pon ejemplos con listas o imágenes si lo requieres**\n",
        "\n",
        "\n",
        "1.   Se establece un valor mínimo.\n",
        "2.   Se hace una iteración en los valores del diccionario y se compara si el valor en cuestión es menor que el mínimo establecido.\n",
        "3. Si el valor es menor, entonces ahora éste se convierte en el valor mínimo.\n",
        "\n"
      ]
    },
    {
      "cell_type": "code",
      "metadata": {
        "id": "KUCHboDtXNCa"
      },
      "source": [
        "def findMinOptimizado(lista_):\n",
        "  ##Best case\n",
        "  set_min = lista_['output']\n",
        "  for i in lista_['input']['nums']: ##----------> O(n)\n",
        "    if i < set_min:\n",
        "      set_min = i\n",
        "  return set_min"
      ],
      "execution_count": 10,
      "outputs": []
    },
    {
      "cell_type": "code",
      "metadata": {
        "colab": {
          "base_uri": "https://localhost:8080/"
        },
        "id": "X4asQVlG9RSd",
        "outputId": "3c701580-6c1c-404c-ef57-91ff5769ca87"
      },
      "source": [
        "findMinOptimizado(test2)"
      ],
      "execution_count": 11,
      "outputs": [
        {
          "output_type": "execute_result",
          "data": {
            "text/plain": [
              "1"
            ]
          },
          "metadata": {
            "tags": []
          },
          "execution_count": 11
        }
      ]
    },
    {
      "cell_type": "code",
      "metadata": {
        "colab": {
          "base_uri": "https://localhost:8080/"
        },
        "id": "GmSJ4C2u-6o7",
        "outputId": "723979d6-50b3-4a98-8bfc-11cada59c7d9"
      },
      "source": [
        "#Evaluación\n",
        "print(findMinOptimizado(test2) == test2['output'])"
      ],
      "execution_count": 12,
      "outputs": [
        {
          "output_type": "stream",
          "text": [
            "True\n"
          ],
          "name": "stdout"
        }
      ]
    }
  ]
}