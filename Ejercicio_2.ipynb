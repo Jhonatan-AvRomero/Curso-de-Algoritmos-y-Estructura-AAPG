{
  "nbformat": 4,
  "nbformat_minor": 0,
  "metadata": {
    "colab": {
      "name": "Ejercicio_2.ipynb",
      "provenance": [],
      "authorship_tag": "ABX9TyMRVHIQyAs/CXjHkP+pCFbr",
      "include_colab_link": true
    },
    "kernelspec": {
      "name": "python3",
      "display_name": "Python 3"
    },
    "language_info": {
      "name": "python"
    }
  },
  "cells": [
    {
      "cell_type": "markdown",
      "metadata": {
        "id": "view-in-github",
        "colab_type": "text"
      },
      "source": [
        "<a href=\"https://colab.research.google.com/github/Jhonatan-AvRomero/Curso-de-Algoritmos-y-Estructura-AAPG/blob/main/Ejercicio_2.ipynb\" target=\"_parent\"><img src=\"https://colab.research.google.com/assets/colab-badge.svg\" alt=\"Open In Colab\"/></a>"
      ]
    },
    {
      "cell_type": "markdown",
      "metadata": {
        "id": "fc5a9rvzRGAG"
      },
      "source": [
        "**Ejercicio 2: Se trata de que usted genere una función para que los valores obtenidos en la lista pasen a formar parte de un diccionario que nos ayude a hacer consultas de los valores que se encuentran en esta estrctura de datos.**\n"
      ]
    },
    {
      "cell_type": "code",
      "metadata": {
        "colab": {
          "base_uri": "https://localhost:8080/"
        },
        "id": "StwMdcRqRJqM",
        "outputId": "110eb021-0e8b-4471-c314-5c8af4772014"
      },
      "source": [
        "result = [2, 4, 5, 6, 6, 5, 4, 3, 2, 1, 5, 6]\n",
        "\n",
        "diccionario = {}\n",
        "print(diccionario)\n",
        "\n",
        "print(diccionario.keys())\n",
        "key = 0\n",
        "diccionario.setdefault(key, [])\n",
        "print(diccionario.keys())\n",
        "\n",
        "def create_dict(lista):\n",
        "  len(lista)\n",
        "  diccionario = {}\n",
        "  for clave in range(0,len(lista)):\n",
        "    diccionario.setdefault(clave, lista[clave])\n",
        "  pass\n",
        "  return diccionario\n",
        "\n",
        "print(create_dict(result))\n",
        "\n",
        "#Los siguientes comentario se corre cuando se obtenga la lista para evaluar si corresponde al resultado dado\n",
        "#diccionario_result = {0: 2, 1: 4, 2: 5, 3: 6, 4: 6, 5: 5, 6: 4, 7: 3, 8: 2, 9: 1, 10: 5, 11: 6}\n",
        "#print(diccionario_result == get_dict)"
      ],
      "execution_count": 5,
      "outputs": [
        {
          "output_type": "stream",
          "text": [
            "{}\n",
            "dict_keys([])\n",
            "dict_keys([0])\n",
            "{0: 2, 1: 4, 2: 5, 3: 6, 4: 6, 5: 5, 6: 4, 7: 3, 8: 2, 9: 1, 10: 5, 11: 6}\n"
          ],
          "name": "stdout"
        }
      ]
    }
  ]
}