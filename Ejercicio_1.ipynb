{
  "nbformat": 4,
  "nbformat_minor": 0,
  "metadata": {
    "colab": {
      "name": "Ejercicio_1.ipynb",
      "provenance": [],
      "authorship_tag": "ABX9TyNk0vzcca6rCHcwMiYUBrRI",
      "include_colab_link": true
    },
    "kernelspec": {
      "name": "python3",
      "display_name": "Python 3"
    },
    "language_info": {
      "name": "python"
    }
  },
  "cells": [
    {
      "cell_type": "markdown",
      "metadata": {
        "id": "view-in-github",
        "colab_type": "text"
      },
      "source": [
        "<a href=\"https://colab.research.google.com/github/Jhonatan-AvRomero/Curso-de-Algoritmos-y-Estructura-AAPG/blob/main/Ejercicio_1.ipynb\" target=\"_parent\"><img src=\"https://colab.research.google.com/assets/colab-badge.svg\" alt=\"Open In Colab\"/></a>"
      ]
    },
    {
      "cell_type": "markdown",
      "metadata": {
        "id": "RRs-1iRhJKnG"
      },
      "source": [
        "**Ejercio 1: Se tiene la siguiente lista de valores:**"
      ]
    },
    {
      "cell_type": "code",
      "metadata": {
        "colab": {
          "base_uri": "https://localhost:8080/"
        },
        "id": "6t1tmScjJNf0",
        "outputId": "719aa2d4-1c49-47ac-f596-5b18f4b0d6c9"
      },
      "source": [
        "lista_datos = [1,2,3,4,5,6,6, [2,4,5,6,6,5,4,3,2,1,5,6,7,8,9], 'hola', 45]\n",
        "lista_datos"
      ],
      "execution_count": 33,
      "outputs": [
        {
          "output_type": "execute_result",
          "data": {
            "text/plain": [
              "[1,\n",
              " 2,\n",
              " 3,\n",
              " 4,\n",
              " 5,\n",
              " 6,\n",
              " 6,\n",
              " [2, 4, 5, 6, 6, 5, 4, 3, 2, 1, 5, 6, 7, 8, 9],\n",
              " 'hola',\n",
              " 45]"
            ]
          },
          "metadata": {
            "tags": []
          },
          "execution_count": 33
        }
      ]
    },
    {
      "cell_type": "markdown",
      "metadata": {
        "id": "rLt88nyIJwfJ"
      },
      "source": [
        "Necesitamos extraer de la lista anidada todos los valores que sean menores a 7 ya que son de vital importancia para generar un diccionario de datos.\n",
        "**Consejo:** use type para conocer el tipo de datos de los valores de la lista."
      ]
    },
    {
      "cell_type": "code",
      "metadata": {
        "colab": {
          "base_uri": "https://localhost:8080/"
        },
        "id": "KaBiAbXXJW90",
        "outputId": "e3971413-3f6f-422b-a18c-9fe5e682be07"
      },
      "source": [
        "for dato in lista_datos:\n",
        "  print(type(dato))"
      ],
      "execution_count": 34,
      "outputs": [
        {
          "output_type": "stream",
          "text": [
            "<class 'int'>\n",
            "<class 'int'>\n",
            "<class 'int'>\n",
            "<class 'int'>\n",
            "<class 'int'>\n",
            "<class 'int'>\n",
            "<class 'int'>\n",
            "<class 'list'>\n",
            "<class 'str'>\n",
            "<class 'int'>\n"
          ],
          "name": "stdout"
        }
      ]
    },
    {
      "cell_type": "code",
      "metadata": {
        "colab": {
          "base_uri": "https://localhost:8080/"
        },
        "id": "zw3hPaeBMTso",
        "outputId": "3f45a6af-dc94-4bbd-f509-a76e87877f55"
      },
      "source": [
        "def get_values_from_list(lista):\n",
        "  lista_min_7 = []\n",
        "  for dato in lista:\n",
        "    if (type(dato) == type(lista)):\n",
        "      for i in dato:\n",
        "        if i < 7:\n",
        "          lista_min_7.append(i)\n",
        "\n",
        "  return(lista_min_7)    \n",
        "\n",
        "print(get_values_from_list(lista_datos))"
      ],
      "execution_count": 38,
      "outputs": [
        {
          "output_type": "stream",
          "text": [
            "[2, 4, 5, 6, 6, 5, 4, 3, 2, 1, 5, 6]\n"
          ],
          "name": "stdout"
        }
      ]
    }
  ]
}