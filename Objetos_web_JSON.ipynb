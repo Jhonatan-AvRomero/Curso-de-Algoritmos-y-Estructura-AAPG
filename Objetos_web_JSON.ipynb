{
  "nbformat": 4,
  "nbformat_minor": 0,
  "metadata": {
    "colab": {
      "name": "Objetos_web_JSON.ipynb",
      "provenance": [],
      "collapsed_sections": [],
      "authorship_tag": "ABX9TyN1E/Ja1GitK5djfR9XjC7Y",
      "include_colab_link": true
    },
    "kernelspec": {
      "name": "python3",
      "display_name": "Python 3"
    },
    "language_info": {
      "name": "python"
    }
  },
  "cells": [
    {
      "cell_type": "markdown",
      "metadata": {
        "id": "view-in-github",
        "colab_type": "text"
      },
      "source": [
        "<a href=\"https://colab.research.google.com/github/Jhonatan-AvRomero/Curso-de-Algoritmos-y-Estructura-AAPG/blob/main/Objetos_web_JSON.ipynb\" target=\"_parent\"><img src=\"https://colab.research.google.com/assets/colab-badge.svg\" alt=\"Open In Colab\"/></a>"
      ]
    },
    {
      "cell_type": "markdown",
      "metadata": {
        "id": "kXJ9KL1m7-js"
      },
      "source": [
        "**Objetos web: JSON**\n",
        "\n",
        "JSON, de JavaScript Object Notation, es un estándar de formato para contenidos en la web. La notación describe el formato agrupado de los objetos a través de [] y {}, lo que hace que sea muy similar a trabajar con listas y diccionarios de manera conjunta.\n",
        "\n",
        "Este es un estándar muy utilizado en la actualidad para comunicar procesos y servicios a través de la web."
      ]
    },
    {
      "cell_type": "markdown",
      "metadata": {
        "id": "BpiPxOf28P_9"
      },
      "source": [
        "**Ejercicio 3. Se hizo una petición http y se obtiene la siguiente información en un conjunto de lista y diccionario, necesito obtener cierta información de alto valor para relizar un modelo que nos ayude a identificar objetos en una imágen, obtenga los valores de la key 'object' y almacenelos en una lista para su posterior análisis.**"
      ]
    },
    {
      "cell_type": "code",
      "metadata": {
        "colab": {
          "base_uri": "https://localhost:8080/"
        },
        "id": "z4G5Sma68Dbg",
        "outputId": "04b09520-d17c-474d-86be-21836cf5a804"
      },
      "source": [
        "cognitive_response = [\n",
        "  {\n",
        "    \"rectangle\": {\n",
        "      \"x\": 6,\n",
        "      \"y\": 390,\n",
        "      \"w\": 48,\n",
        "      \"h\": 40\n",
        "    },\n",
        "    \"object\": \"footwear\",\n",
        "    \"confidence\": 0.513\n",
        "  },\n",
        "  {\n",
        "    \"rectangle\": {\n",
        "      \"x\": 104,\n",
        "      \"y\": 104,\n",
        "      \"w\": 127,\n",
        "      \"h\": 323\n",
        "    },\n",
        "    \"object\": \"person\",\n",
        "    \"confidence\": 0.763\n",
        "  },\n",
        "  {\n",
        "    \"rectangle\": {\n",
        "      \"x\": 174,\n",
        "      \"y\": 236,\n",
        "      \"w\": 113,\n",
        "      \"h\": 74\n",
        "    },\n",
        "    \"object\": \"Laptop\",\n",
        "    \"parent\": {\n",
        "      \"object\": \"computer\",\n",
        "      \"confidence\": 0.56\n",
        "    },\n",
        "    \"confidence\": 0.553\n",
        "  },\n",
        "  {\n",
        "    \"rectangle\": {\n",
        "      \"x\": 351,\n",
        "      \"y\": 331,\n",
        "      \"w\": 154,\n",
        "      \"h\": 99\n",
        "    },\n",
        "    \"object\": \"seating\",\n",
        "    \"confidence\": 0.525\n",
        "  },\n",
        "  {\n",
        "    \"rectangle\": {\n",
        "      \"x\": 0,\n",
        "      \"y\": 101,\n",
        "      \"w\": 174,\n",
        "      \"h\": 329\n",
        "    },\n",
        "    \"object\": \"person\",\n",
        "    \"confidence\": 0.855\n",
        "  },\n",
        "  {\n",
        "    \"rectangle\": {\n",
        "      \"x\": 223,\n",
        "      \"y\": 99,\n",
        "      \"w\": 199,\n",
        "      \"h\": 322\n",
        "    },\n",
        "    \"object\": \"person\",\n",
        "    \"confidence\": 0.725\n",
        "  },\n",
        "  {\n",
        "    \"rectangle\": {\n",
        "      \"x\": 154,\n",
        "      \"y\": 191,\n",
        "      \"w\": 387,\n",
        "      \"h\": 218\n",
        "    },\n",
        "    \"object\": \"seating\",\n",
        "    \"confidence\": 0.679\n",
        "  },\n",
        "  {\n",
        "    \"rectangle\": {\n",
        "      \"x\": 111,\n",
        "      \"y\": 275,\n",
        "      \"w\": 264,\n",
        "      \"h\": 151\n",
        "    },\n",
        "    \"object\": \"table\",\n",
        "    \"confidence\": 0.601\n",
        "  }\n",
        "]\n",
        "print(cognitive_response)"
      ],
      "execution_count": 3,
      "outputs": [
        {
          "output_type": "stream",
          "text": [
            "[{'rectangle': {'x': 6, 'y': 390, 'w': 48, 'h': 40}, 'object': 'footwear', 'confidence': 0.513}, {'rectangle': {'x': 104, 'y': 104, 'w': 127, 'h': 323}, 'object': 'person', 'confidence': 0.763}, {'rectangle': {'x': 174, 'y': 236, 'w': 113, 'h': 74}, 'object': 'Laptop', 'parent': {'object': 'computer', 'confidence': 0.56}, 'confidence': 0.553}, {'rectangle': {'x': 351, 'y': 331, 'w': 154, 'h': 99}, 'object': 'seating', 'confidence': 0.525}, {'rectangle': {'x': 0, 'y': 101, 'w': 174, 'h': 329}, 'object': 'person', 'confidence': 0.855}, {'rectangle': {'x': 223, 'y': 99, 'w': 199, 'h': 322}, 'object': 'person', 'confidence': 0.725}, {'rectangle': {'x': 154, 'y': 191, 'w': 387, 'h': 218}, 'object': 'seating', 'confidence': 0.679}, {'rectangle': {'x': 111, 'y': 275, 'w': 264, 'h': 151}, 'object': 'table', 'confidence': 0.601}]\n"
          ],
          "name": "stdout"
        }
      ]
    },
    {
      "cell_type": "code",
      "metadata": {
        "colab": {
          "base_uri": "https://localhost:8080/"
        },
        "id": "1heRDE1AJExG",
        "outputId": "bba303b5-853b-4d3f-fb72-024171fcbf0a"
      },
      "source": [
        "l = []\n",
        "for i in range(0, len(cognitive_response)):\n",
        "  l.append(cognitive_response[i]['object'])\n",
        "print(l)"
      ],
      "execution_count": 4,
      "outputs": [
        {
          "output_type": "stream",
          "text": [
            "['footwear', 'person', 'Laptop', 'seating', 'person', 'person', 'seating', 'table']\n"
          ],
          "name": "stdout"
        }
      ]
    }
  ]
}